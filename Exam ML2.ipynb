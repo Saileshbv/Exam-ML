{
 "cells": [
  {
   "cell_type": "code",
   "execution_count": 115,
   "id": "2d38d235",
   "metadata": {},
   "outputs": [],
   "source": [
    "#Importing the required packages \n",
    "import numpy as np\n",
    "import pandas as pd\n",
    "import matplotlib.pyplot as plt\n",
    "import seaborn as sns"
   ]
  },
  {
   "cell_type": "code",
   "execution_count": 116,
   "id": "3def36a1",
   "metadata": {},
   "outputs": [],
   "source": [
    "df=pd.read_excel(r'data_final.xlsx')"
   ]
  },
  {
   "cell_type": "code",
   "execution_count": 117,
   "id": "fec187b4",
   "metadata": {},
   "outputs": [
    {
     "data": {
      "text/html": [
       "<div>\n",
       "<style scoped>\n",
       "    .dataframe tbody tr th:only-of-type {\n",
       "        vertical-align: middle;\n",
       "    }\n",
       "\n",
       "    .dataframe tbody tr th {\n",
       "        vertical-align: top;\n",
       "    }\n",
       "\n",
       "    .dataframe thead th {\n",
       "        text-align: right;\n",
       "    }\n",
       "</style>\n",
       "<table border=\"1\" class=\"dataframe\">\n",
       "  <thead>\n",
       "    <tr style=\"text-align: right;\">\n",
       "      <th></th>\n",
       "      <th>observation</th>\n",
       "      <th>feature</th>\n",
       "      <th>price</th>\n",
       "    </tr>\n",
       "  </thead>\n",
       "  <tbody>\n",
       "    <tr>\n",
       "      <th>0</th>\n",
       "      <td>0.44</td>\n",
       "      <td>0.68</td>\n",
       "      <td>511.14</td>\n",
       "    </tr>\n",
       "    <tr>\n",
       "      <th>1</th>\n",
       "      <td>0.99</td>\n",
       "      <td>0.23</td>\n",
       "      <td>717.10</td>\n",
       "    </tr>\n",
       "    <tr>\n",
       "      <th>2</th>\n",
       "      <td>0.84</td>\n",
       "      <td>0.29</td>\n",
       "      <td>607.91</td>\n",
       "    </tr>\n",
       "    <tr>\n",
       "      <th>3</th>\n",
       "      <td>0.28</td>\n",
       "      <td>0.45</td>\n",
       "      <td>270.40</td>\n",
       "    </tr>\n",
       "    <tr>\n",
       "      <th>4</th>\n",
       "      <td>0.07</td>\n",
       "      <td>0.83</td>\n",
       "      <td>289.88</td>\n",
       "    </tr>\n",
       "  </tbody>\n",
       "</table>\n",
       "</div>"
      ],
      "text/plain": [
       "   observation  feature   price\n",
       "0         0.44     0.68  511.14\n",
       "1         0.99     0.23  717.10\n",
       "2         0.84     0.29  607.91\n",
       "3         0.28     0.45  270.40\n",
       "4         0.07     0.83  289.88"
      ]
     },
     "execution_count": 117,
     "metadata": {},
     "output_type": "execute_result"
    }
   ],
   "source": [
    "df.head()"
   ]
  },
  {
   "cell_type": "code",
   "execution_count": 118,
   "id": "c2a80ec3",
   "metadata": {},
   "outputs": [
    {
     "name": "stdout",
     "output_type": "stream",
     "text": [
      "<class 'pandas.core.frame.DataFrame'>\n",
      "RangeIndex: 100 entries, 0 to 99\n",
      "Data columns (total 3 columns):\n",
      " #   Column       Non-Null Count  Dtype  \n",
      "---  ------       --------------  -----  \n",
      " 0   observation  100 non-null    float64\n",
      " 1   feature      100 non-null    float64\n",
      " 2   price        100 non-null    float64\n",
      "dtypes: float64(3)\n",
      "memory usage: 2.5 KB\n"
     ]
    }
   ],
   "source": [
    "df.info()"
   ]
  },
  {
   "cell_type": "code",
   "execution_count": 119,
   "id": "2986f84a",
   "metadata": {},
   "outputs": [
    {
     "data": {
      "text/plain": [
       "0"
      ]
     },
     "execution_count": 119,
     "metadata": {},
     "output_type": "execute_result"
    }
   ],
   "source": [
    "df.duplicated().sum()"
   ]
  },
  {
   "cell_type": "code",
   "execution_count": 120,
   "id": "9dbf4ec2",
   "metadata": {},
   "outputs": [
    {
     "data": {
      "text/plain": [
       "observation    0\n",
       "feature        0\n",
       "price          0\n",
       "dtype: int64"
      ]
     },
     "execution_count": 120,
     "metadata": {},
     "output_type": "execute_result"
    }
   ],
   "source": [
    "df.isnull().sum()"
   ]
  },
  {
   "cell_type": "code",
   "execution_count": 121,
   "id": "743a1476",
   "metadata": {},
   "outputs": [],
   "source": [
    "copydf=df.copy()"
   ]
  },
  {
   "cell_type": "code",
   "execution_count": 122,
   "id": "595e51da",
   "metadata": {},
   "outputs": [],
   "source": [
    "x=df.drop('price',axis=1)\n",
    "y=df['price']"
   ]
  },
  {
   "cell_type": "code",
   "execution_count": 123,
   "id": "41b1badf",
   "metadata": {},
   "outputs": [],
   "source": [
    "from sklearn.model_selection import train_test_split\n",
    "xtrain,xtest,ytrain,ytest=train_test_split(x,y,test_size=0.1,random_state=1)\n"
   ]
  },
  {
   "cell_type": "code",
   "execution_count": 124,
   "id": "3a093e6f",
   "metadata": {},
   "outputs": [],
   "source": [
    "from sklearn.linear_model import LinearRegression\n",
    "lg=LinearRegression()\n",
    "model=lg.fit(xtrain,ytrain)"
   ]
  },
  {
   "cell_type": "code",
   "execution_count": 125,
   "id": "6509a772",
   "metadata": {},
   "outputs": [
    {
     "data": {
      "text/plain": [
       "array([811.34052359, 346.56670786, 893.48107475, 320.1147492 ,\n",
       "       239.82365045, 598.08632861, 343.70724053, 735.41718968,\n",
       "       514.54671499, 780.41156504])"
      ]
     },
     "execution_count": 125,
     "metadata": {},
     "output_type": "execute_result"
    }
   ],
   "source": [
    "Lin_pred=model.predict(xtest)\n",
    "Lin_pred"
   ]
  },
  {
   "cell_type": "code",
   "execution_count": 141,
   "id": "d95fdbab",
   "metadata": {},
   "outputs": [],
   "source": [
    "from sklearn.preprocessing import PolynomialFeatures\n",
    "p=PolynomialFeatures(degree=3)\n",
    "lg1=LinearRegression()\n",
    "nxtrain=p.fit_transform(xtrain)\n",
    "nxtest=p.fit_transform(xtest)\n",
    "model1=lg1.fit(nxtrain,ytrain)\n"
   ]
  },
  {
   "cell_type": "code",
   "execution_count": 142,
   "id": "7f8b526c",
   "metadata": {},
   "outputs": [
    {
     "data": {
      "text/plain": [
       "array([785.59067461, 289.12135852, 901.25197518, 284.85225775,\n",
       "       237.54819293, 530.61779203, 302.36856177, 685.49941006,\n",
       "       437.94411486, 744.32051976])"
      ]
     },
     "execution_count": 142,
     "metadata": {},
     "output_type": "execute_result"
    }
   ],
   "source": [
    "Poly_pred=model1.predict(nxtest)\n",
    "Poly_pred"
   ]
  },
  {
   "cell_type": "code",
   "execution_count": 143,
   "id": "82eae062",
   "metadata": {},
   "outputs": [
    {
     "data": {
      "text/plain": [
       "Text(0.5, 1.0, 'Graph of Prediction between Linear and Polynomial ')"
      ]
     },
     "execution_count": 143,
     "metadata": {},
     "output_type": "execute_result"
    },
    {
     "data": {
      "image/png": "[encoded data removed]",
      "text/plain": [
       "<Figure size 640x480 with 1 Axes>"
      ]
     },
     "metadata": {},
     "output_type": "display_data"
    }
   ],
   "source": [
    "plt.plot(Lin_pred)\n",
    "plt.plot(Poly_pred,color='red')\n",
    "plt.xlabel('Prediction Values')\n",
    "plt.title('Graph of Prediction between Linear and Polynomial ')"
   ]
  },
  {
   "cell_type": "code",
   "execution_count": null,
   "id": "2a1963b7",
   "metadata": {},
   "outputs": [],
   "source": []
  }
 ],
 "metadata": {
  "kernelspec": {
   "display_name": "Python 3 (ipykernel)",
   "language": "python",
   "name": "python3"
  },
  "language_info": {
   "codemirror_mode": {
    "name": "ipython",
    "version": 3
   },
   "file_extension": ".py",
   "mimetype": "text/x-python",
   "name": "python",
   "nbconvert_exporter": "python",
   "pygments_lexer": "ipython3",
   "version": "3.9.13"
  }
 },
 "nbformat": 4,
 "nbformat_minor": 5
}
